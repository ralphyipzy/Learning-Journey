{
 "cells": [
  {
   "cell_type": "code",
   "execution_count": 80,
   "metadata": {},
   "outputs": [
    {
     "name": "stdout",
     "output_type": "stream",
     "text": [
      "START Setting Directories: 2020-06-29-2115\n",
      "COMPLETE Setting Directories: 2020-06-29-2115\n"
     ]
    }
   ],
   "source": [
    "import os, cv2, random\n",
    "import numpy as np\n",
    "import tensorflow as tf\n",
    "from datetime import datetime\n",
    "from tqdm import tqdm\n",
    "import pandas as pd\n",
    "\n",
    "IMG_SIZE = 100\n",
    "\n",
    "print(f\"START Setting Directories: {datetime.today().strftime('%Y-%m-%d-%H%M')}\")\n",
    "train_data_folder = \"shopee-product-detection-dataset/train/train\"\n",
    "test_data_folder = \"shopee-product-detection-dataset/test/test\"\n",
    "categories = list(map(str,  range(0,42)))\n",
    "categories = [\"0\" + x if len(x) == 1 else x for x in categories]\n",
    "print(f\"COMPLETE Setting Directories: {datetime.today().strftime('%Y-%m-%d-%H%M')}\")"
   ]
  },
  {
   "cell_type": "code",
   "execution_count": 2,
   "metadata": {},
   "outputs": [
    {
     "name": "stderr",
     "output_type": "stream",
     "text": [
      "  0%|          | 11/2683 [00:00<00:24, 107.69it/s]"
     ]
    },
    {
     "name": "stdout",
     "output_type": "stream",
     "text": [
      "START Setting Directories: 2020-06-28-2339\n",
      "COMPLETE Setting Directories: 2020-06-28-2339\n",
      "START Import and Shuffle Train Data: 2020-06-28-2339\n"
     ]
    },
    {
     "name": "stderr",
     "output_type": "stream",
     "text": [
      "100%|██████████| 2683/2683 [00:23<00:00, 114.35it/s]\n",
      "100%|██████████| 2703/2703 [00:21<00:00, 125.47it/s]\n",
      "100%|██████████| 2687/2687 [00:24<00:00, 108.60it/s]\n",
      "100%|██████████| 2703/2703 [00:22<00:00, 117.68it/s]\n",
      "100%|██████████| 2703/2703 [00:20<00:00, 130.98it/s]\n",
      "100%|██████████| 2641/2641 [00:16<00:00, 162.83it/s]\n",
      "100%|██████████| 2641/2641 [00:19<00:00, 132.09it/s]\n",
      "100%|██████████| 2661/2661 [00:17<00:00, 153.32it/s]\n",
      "100%|██████████| 2700/2700 [00:19<00:00, 141.53it/s]\n",
      "100%|██████████| 2698/2698 [00:20<00:00, 130.09it/s]\n",
      "100%|██████████| 2673/2673 [00:21<00:00, 126.30it/s]\n",
      "100%|██████████| 1843/1843 [00:13<00:00, 134.58it/s]\n",
      "100%|██████████| 2691/2691 [00:20<00:00, 133.50it/s]\n",
      "100%|██████████| 2682/2682 [00:19<00:00, 138.24it/s]\n",
      "100%|██████████| 2685/2685 [00:16<00:00, 161.18it/s]\n",
      "100%|██████████| 2632/2632 [00:19<00:00, 137.51it/s]\n",
      "100%|██████████| 2665/2665 [00:21<00:00, 125.28it/s]\n",
      "100%|██████████| 1553/1553 [00:09<00:00, 171.75it/s]\n",
      "100%|██████████| 2104/2104 [00:12<00:00, 164.00it/s]\n",
      "100%|██████████| 2679/2679 [00:17<00:00, 150.54it/s]\n",
      "100%|██████████| 2654/2654 [00:17<00:00, 152.86it/s]\n",
      "100%|██████████| 2598/2598 [00:18<00:00, 139.41it/s]\n",
      "100%|██████████| 2623/2623 [00:21<00:00, 123.34it/s]\n",
      "100%|██████████| 2540/2540 [00:16<00:00, 154.04it/s]\n",
      "100%|██████████| 2705/2705 [00:20<00:00, 129.30it/s]\n",
      "100%|██████████| 2692/2692 [00:19<00:00, 135.47it/s]\n",
      "100%|██████████| 2684/2684 [00:20<00:00, 131.27it/s]\n",
      "100%|██████████| 2702/2702 [00:19<00:00, 138.55it/s]\n",
      "100%|██████████| 2561/2561 [00:18<00:00, 138.37it/s]\n",
      "100%|██████████| 2138/2138 [00:15<00:00, 140.88it/s]\n",
      "100%|██████████| 2705/2705 [00:22<00:00, 121.28it/s]\n",
      "100%|██████████| 2677/2677 [00:18<00:00, 143.41it/s]\n",
      "100%|██████████| 2157/2157 [00:14<00:00, 153.36it/s]\n",
      "100%|██████████| 573/573 [00:03<00:00, 162.53it/s]\n",
      "100%|██████████| 2599/2599 [00:16<00:00, 157.43it/s]\n",
      "100%|██████████| 2658/2658 [00:16<00:00, 159.23it/s]\n",
      "100%|██████████| 2686/2686 [00:16<00:00, 162.44it/s]\n",
      "100%|██████████| 1725/1725 [00:10<00:00, 170.72it/s]\n",
      "100%|██████████| 2673/2673 [00:18<00:00, 143.94it/s]\n",
      "100%|██████████| 2678/2678 [00:20<00:00, 132.38it/s]\n",
      "100%|██████████| 2681/2681 [00:17<00:00, 149.91it/s]\n",
      "100%|██████████| 2662/2662 [00:18<00:00, 147.84it/s]\n"
     ]
    },
    {
     "name": "stdout",
     "output_type": "stream",
     "text": [
      "COMPLETE Import and Shuffle Train Data: 2020-06-28-2351\n",
      "START Creating X_train and y_train 2020-06-28-2351\n",
      "COMPLETE: Creating X_train and y_train 2020-06-28-2356\n"
     ]
    }
   ],
   "source": [
    "print(f\"START Import and Shuffle Train Data: {datetime.today().strftime('%Y-%m-%d-%H%M')}\")\n",
    "train_data = []\n",
    "for category in categories:\n",
    "    path = os.path.join(train_data_folder, category)\n",
    "    class_num = categories.index(category)\n",
    "    for img in tqdm(os.listdir(path)):\n",
    "        try:\n",
    "            img_array = cv2.imread(os.path.join(path, img))\n",
    "            img_array = cv2.cvtColor(img_array, cv2.COLOR_BGR2RGB) # Changed to RGB instead of greyscale\n",
    "            new_array = cv2.resize(img_array, (IMG_SIZE, IMG_SIZE))\n",
    "            train_data.append([new_array, class_num])\n",
    "        except:\n",
    "            pass\n",
    "random.shuffle(train_data)\n",
    "print(f\"COMPLETE Import and Shuffle Train Data: {datetime.today().strftime('%Y-%m-%d-%H%M')}\")\n",
    "\n",
    "print(f\"START Creating X_train and y_train {datetime.today().strftime('%Y-%m-%d-%H%M')}\")\n",
    "X_train = []\n",
    "y_train = []\n",
    "for features,label in train_data:\n",
    "    X_train.append(features)\n",
    "    y_train.append(label)\n",
    "\n",
    "X_train = np.array(X_train).reshape(-1, IMG_SIZE, IMG_SIZE, 3).astype(\"float32\")\n",
    "X_train = tf.keras.utils.normalize(X_train, axis = 1)\n",
    "y_train = np.array(y_train).astype(\"int32\")\n",
    "print(f\"COMPLETE: Creating X_train and y_train {datetime.today().strftime('%Y-%m-%d-%H%M')}\")"
   ]
  },
  {
   "cell_type": "code",
   "execution_count": 7,
   "metadata": {},
   "outputs": [
    {
     "name": "stdout",
     "output_type": "stream",
     "text": [
      "START Training Model: 2020-06-29-0018\n",
      "conv128-conv128-dropout0.8-dense128-dense128-batch32-2020-06-29-0018\n",
      "Epoch 1/5\n",
      "2965/2965 [==============================] - 2267s 765ms/step - loss: 3.2284 - accuracy: 0.1510 - val_loss: 2.8610 - val_accuracy: 0.2400\n",
      "Epoch 2/5\n",
      "2965/2965 [==============================] - 2250s 759ms/step - loss: 2.7254 - accuracy: 0.2778 - val_loss: 2.7066 - val_accuracy: 0.2870\n",
      "Epoch 3/5\n",
      "2965/2965 [==============================] - 2239s 755ms/step - loss: 2.4797 - accuracy: 0.3369 - val_loss: 2.5675 - val_accuracy: 0.3175\n",
      "Epoch 4/5\n",
      "2965/2965 [==============================] - 2243s 756ms/step - loss: 2.3190 - accuracy: 0.3785 - val_loss: 2.4885 - val_accuracy: 0.3459\n",
      "Epoch 5/5\n",
      "2965/2965 [==============================] - 2243s 756ms/step - loss: 2.1841 - accuracy: 0.4080 - val_loss: 2.4373 - val_accuracy: 0.3639\n",
      "COMPLETE Training Model: 2020-06-29-0328\n"
     ]
    }
   ],
   "source": [
    "print(f\"START Training Model: {datetime.today().strftime('%Y-%m-%d-%H%M')}\")\n",
    "\n",
    "NAME = f\"conv64-conv256-dropout0.5-dense128-dense128-batch32-{datetime.today().strftime('%Y-%m-%d-%H%M')}\"\n",
    "print(NAME)\n",
    "\n",
    "model = tf.keras.models.Sequential()\n",
    "\n",
    "model.add(tf.keras.layers.Conv2D(64, (3, 3), activation = \"relu\", input_shape = (IMG_SIZE, IMG_SIZE, 3)))\n",
    "model.add(tf.keras.layers.MaxPool2D(pool_size = (2,2), strides = 2))\n",
    "\n",
    "model.add(tf.keras.layers.Conv2D(256, (3, 3), activation = \"relu\"))\n",
    "model.add(tf.keras.layers.MaxPool2D(pool_size = (2,2), strides = 2))\n",
    "\n",
    "model.add(tf.keras.layers.Dropout(0.5))\n",
    "model.add(tf.keras.layers.Flatten())\n",
    "\n",
    "model.add(tf.keras.layers.Dense(128, activation = \"relu\"))\n",
    "model.add(tf.keras.layers.Dense(128, activation = \"relu\"))\n",
    "model.add(tf.keras.layers.Dense(42, activation = \"softmax\"))\n",
    "model.compile(optimizer = \"adam\", loss = \"sparse_categorical_crossentropy\", metrics = [\"accuracy\"])\n",
    "tensorboard = tf.keras.callbacks.TensorBoard(log_dir = f\"logs/{NAME}\")\n",
    "\n",
    "model.fit(X_train, y_train, epochs = 5, batch_size = 32, validation_split = 0.1, callbacks = [tensorboard])\n",
    "print(f\"COMPLETE Training Model: {datetime.today().strftime('%Y-%m-%d-%H%M')}\")"
   ]
  },
  {
   "cell_type": "code",
   "execution_count": 9,
   "metadata": {},
   "outputs": [
    {
     "name": "stdout",
     "output_type": "stream",
     "text": [
      "WARNING:tensorflow:From /Users/ralph/opt/anaconda3/lib/python3.7/site-packages/tensorflow/python/ops/resource_variable_ops.py:1817: calling BaseResourceVariable.__init__ (from tensorflow.python.ops.resource_variable_ops) with constraint is deprecated and will be removed in a future version.\n",
      "Instructions for updating:\n",
      "If using Keras pass *_constraint arguments to layers.\n",
      "INFO:tensorflow:Assets written to: conv128-conv128-dropout0.8-dense128-dense128-batch32-2020-06-29-0018/assets\n"
     ]
    }
   ],
   "source": [
    "model.save(f\"{NAME}\")"
   ]
  },
  {
   "cell_type": "code",
   "execution_count": 3,
   "metadata": {},
   "outputs": [],
   "source": [
    "model = tf.keras.models.load_model(\"conv64-conv256-dropout0.5-dense128-dense128-batch32-2020-06-29-0018\")"
   ]
  },
  {
   "cell_type": "code",
   "execution_count": 7,
   "metadata": {},
   "outputs": [
    {
     "name": "stdout",
     "output_type": "stream",
     "text": [
      "START Import and Preprocessing X_test: 2020-06-29-2041\n",
      "COMPLETE Import and Preprocessing X_test: 2020-06-29-2043\n"
     ]
    }
   ],
   "source": [
    "print(f\"START Import and Preprocessing X_test: {datetime.today().strftime('%Y-%m-%d-%H%M')}\")\n",
    "test_data = []\n",
    "test_data_name = []\n",
    "for img in os.listdir(test_data_folder):\n",
    "    img_array = cv2.imread(os.path.join(test_data_folder, img))\n",
    "    img_array = cv2.cvtColor(img_array, cv2.COLOR_BGR2RGB)\n",
    "    new_array = cv2.resize(img_array, (IMG_SIZE, IMG_SIZE))\n",
    "    test_data.append(new_array)\n",
    "    test_data_name.append(img)\n",
    "\n",
    "X_test = []\n",
    "for features in test_data:\n",
    "    X_test.append(features)\n",
    "X_test = np.array(X_test).reshape(-1, IMG_SIZE, IMG_SIZE, 3).astype(\"float32\")\n",
    "X_test = tf.keras.utils.normalize(X_test, axis = 1)\n",
    "print(f\"COMPLETE Import and Preprocessing X_test: {datetime.today().strftime('%Y-%m-%d-%H%M')}\")"
   ]
  },
  {
   "cell_type": "code",
   "execution_count": 79,
   "metadata": {},
   "outputs": [
    {
     "name": "stdout",
     "output_type": "stream",
     "text": [
      "START Predicting X_test: 2020-06-29-2114\n",
      "COMPLETE Predicting X_test: 2020-06-29-2115\n",
      "START Output File: 2020-06-29-2115\n",
      "COMPLETE Output File: 2020-06-29-2115\n"
     ]
    }
   ],
   "source": [
    "print(f\"START Predicting X_test: {datetime.today().strftime('%Y-%m-%d-%H%M')}\")\n",
    "\n",
    "predictions = model.predict(X_test)\n",
    "\n",
    "labels = []\n",
    "for x in predictions:\n",
    "    prediction = np.amax(x)\n",
    "    label = np.where(x == prediction)[0][0]\n",
    "    labels.append(label)\n",
    "\n",
    "print(f\"COMPLETE Predicting X_test: {datetime.today().strftime('%Y-%m-%d-%H%M')}\")\n",
    "\n",
    "print(f\"START Output File: {datetime.today().strftime('%Y-%m-%d-%H%M')}\")\n",
    "labels_df = pd.DataFrame(test_data_name)\n",
    "labels_df[\"labels\"] = labels\n",
    "df = pd.read_csv(\"shopee-product-detection-dataset/test.csv\")\n",
    "df = pd.merge(df, labels_df, how = \"left\", left_on = \"filename\", right_on = 0)\n",
    "df = df.drop([0, \"category\"], axis = 1 )\n",
    "df.columns = [\"filename\", \"category\"]\n",
    "df.to_csv(\"attempt.csv\", index = False)\n",
    "print(f\"COMPLETE Output File: {datetime.today().strftime('%Y-%m-%d-%H%M')}\")"
   ]
  }
 ],
 "metadata": {
  "kernelspec": {
   "display_name": "Python 3",
   "language": "python",
   "name": "python3"
  },
  "language_info": {
   "codemirror_mode": {
    "name": "ipython",
    "version": 3
   },
   "file_extension": ".py",
   "mimetype": "text/x-python",
   "name": "python",
   "nbconvert_exporter": "python",
   "pygments_lexer": "ipython3",
   "version": "3.7.6"
  }
 },
 "nbformat": 4,
 "nbformat_minor": 4
}
