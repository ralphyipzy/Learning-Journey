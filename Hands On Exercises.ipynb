{
 "cells": [
  {
   "cell_type": "code",
   "execution_count": 72,
   "metadata": {},
   "outputs": [
    {
     "name": "stdout",
     "output_type": "stream",
     "text": [
      "Principal (S$): 8500\n",
      "Interest (%): 1.8\n",
      "Balance after 1st year:8653.0\n",
      "Balance after 2nd year:8808.754\n",
      "Balance after 3rd year:8967.311572\n"
     ]
    }
   ],
   "source": [
    "# CALCULATE BALANCE OVER 3 YEARS\n",
    "\n",
    "principal = float(input(\"Principal (S$): \"))\n",
    "\n",
    "interest = float(input(\"Interest (%): \"))\n",
    "interest = interest/100 + 1\n",
    "\n",
    "print(\"Balance after 1st year:\" + str(principal*interest**1))\n",
    "print(\"Balance after 2nd year:\" + str(principal*interest**2))\n",
    "print(\"Balance after 3rd year:\" + str(principal*interest**3))"
   ]
  },
  {
   "cell_type": "code",
   "execution_count": 71,
   "metadata": {},
   "outputs": [
    {
     "name": "stdout",
     "output_type": "stream",
     "text": [
      "Talk time (mins): 1\n",
      "SMS     : 1\n",
      "Data (GB): 1\n",
      "Base Charges: 50\n",
      "Total Bill (after GST): 53.5\n"
     ]
    }
   ],
   "source": [
    "# CALCULATE PHONE BILL\n",
    "\n",
    "# BASE PACKAGE\n",
    "freetalktime = 120\n",
    "freesms = 50\n",
    "freedata = 5\n",
    "\n",
    "# CHARGES\n",
    "base = 50\n",
    "add_talktime_rate = 0.25\n",
    "add_sms_rate = 0.15\n",
    "add_data_rate = 10.7\n",
    "\n",
    "add_talktime, add_sms, add_data = 0, 0, 0\n",
    "\n",
    "# USAGE\n",
    "talktime = int(input(\"Talk time (mins): \"))\n",
    "sms = int(input(\"SMS: \"))\n",
    "data = float(input(\"Data (GB): \"))\n",
    "\n",
    "if talktime > freetalktime:\n",
    "    add_talktime = add_talktime_rate * (talktime - freetalktime) \n",
    "if sms > freesms:\n",
    "    add_sms = add_sms_rate * (sms - freesms)\n",
    "if data > freedata:\n",
    "    add_data = add_data_rate * (data - freedata)\n",
    "\n",
    "totalbill_beforegst = base + add_talktime + add_sms + add_data\n",
    "totalbill_aftergst = totalbill_beforegst * 1.07\n",
    "\n",
    "print(\"Base Charges: \" + str(base))\n",
    "print(\"Total Bill (after GST): \" + str(totalbill_aftergst))"
   ]
  },
  {
   "cell_type": "code",
   "execution_count": 68,
   "metadata": {},
   "outputs": [
    {
     "name": "stdout",
     "output_type": "stream",
     "text": [
      "Enter a word: 11\n",
      "11 is a Palindrome!\n"
     ]
    }
   ],
   "source": [
    "orig_word = input(\"Enter a word: \")\n",
    "\n",
    "word = orig_word.lower().replace(\" \", \"\")\n",
    "\n",
    "palindrome = True\n",
    "for i in range(len(word)//2):\n",
    "    if word[i] != word[-1-i]:\n",
    "        palindrome = False\n",
    "        break\n",
    "\n",
    "if palindrome == True:\n",
    "    print(orig_word + \" is a Palindrome!\")\n",
    "else:\n",
    "    print(orig_word + \" is NOT a Palindrome\")"
   ]
  },
  {
   "cell_type": "code",
   "execution_count": 66,
   "metadata": {},
   "outputs": [
    {
     "name": "stdout",
     "output_type": "stream",
     "text": [
      "Number: 1\n",
      "Number: 2\n",
      "Number: 3\n",
      "Number: 4\n",
      "Number: \n",
      "End\n",
      "Average: 2.5\n",
      "Below average: [1, 2]\n",
      "Above average: [3, 4]\n"
     ]
    }
   ],
   "source": [
    "# DEFAULT VALUES\n",
    "numbers = []\n",
    "above_avg = []\n",
    "below_avg = []\n",
    "total = 0\n",
    "\n",
    "while True: # INFINITE LOOP\n",
    "    # GET INPUTS\n",
    "    num = input(\"Number: \")\n",
    "    \n",
    "    # CONDITION TO BREAK INFINITE LOOP\n",
    "    if num == \" \" or num == \"\":\n",
    "        print(\"End\")\n",
    "        break\n",
    "    else:\n",
    "    # WHILE IN INFINITE LOOP, TAKE IN THE INPUT VALUE\n",
    "        num = int(num)\n",
    "        numbers.append(num)\n",
    "        total += num\n",
    "\n",
    "# IF THERE IS ANY INPUT VALUE\n",
    "if len(numbers) != 0:\n",
    "    # print(numbers)\n",
    "    average = total / len(numbers)\n",
    "    for num in numbers:\n",
    "        if num < average:\n",
    "            below_avg.append(num)\n",
    "        elif num > average:\n",
    "            above_avg.append(num)\n",
    "\n",
    "print(\"Average: \" + str(average))\n",
    "print(\"Below average: \" + str(below_avg))\n",
    "print(\"Above average: \" + str(above_avg))"
   ]
  },
  {
   "cell_type": "code",
   "execution_count": 76,
   "metadata": {},
   "outputs": [
    {
     "data": {
      "text/plain": [
       "['2s',\n",
       " '2h',\n",
       " '2c',\n",
       " '2d',\n",
       " '3s',\n",
       " '3h',\n",
       " '3c',\n",
       " '3d',\n",
       " '4s',\n",
       " '4h',\n",
       " '4c',\n",
       " '4d',\n",
       " '5s',\n",
       " '5h',\n",
       " '5c',\n",
       " '5d',\n",
       " '6s',\n",
       " '6h',\n",
       " '6c',\n",
       " '6d',\n",
       " '7s',\n",
       " '7h',\n",
       " '7c',\n",
       " '7d',\n",
       " '8s',\n",
       " '8h',\n",
       " '8c',\n",
       " '8d',\n",
       " '9s',\n",
       " '9h',\n",
       " '9c',\n",
       " '9d',\n",
       " 'Ts',\n",
       " 'Th',\n",
       " 'Tc',\n",
       " 'Td',\n",
       " 'Js',\n",
       " 'Jh',\n",
       " 'Jc',\n",
       " 'Jd',\n",
       " 'Qs',\n",
       " 'Qh',\n",
       " 'Qc',\n",
       " 'Qd',\n",
       " 'Ks',\n",
       " 'Kh',\n",
       " 'Kc',\n",
       " 'Kd',\n",
       " 'As',\n",
       " 'Ah',\n",
       " 'Ac',\n",
       " 'Ad']"
      ]
     },
     "execution_count": 76,
     "metadata": {},
     "output_type": "execute_result"
    }
   ],
   "source": [
    "# MAKING A DECK OF CARDS, NO INPUTS REQUIRED\n",
    "\n",
    "suits = [\"s\",\"h\",\"c\",\"d\"]\n",
    "numbers = [2,3,4,5,6,7,8,9,\"T\", \"J\", \"Q\", \"K\", \"A\"]\n",
    "deck = []\n",
    "\n",
    "def create_deck():\n",
    "    for number in numbers:\n",
    "        for suit in suits:\n",
    "            card = str(number) + suit\n",
    "            deck.append(card)\n",
    "    return(deck)\n",
    "    \n",
    "create_deck()"
   ]
  },
  {
   "cell_type": "code",
   "execution_count": null,
   "metadata": {},
   "outputs": [],
   "source": []
  }
 ],
 "metadata": {
  "kernelspec": {
   "display_name": "Python 3",
   "language": "python",
   "name": "python3"
  },
  "language_info": {
   "codemirror_mode": {
    "name": "ipython",
    "version": 3
   },
   "file_extension": ".py",
   "mimetype": "text/x-python",
   "name": "python",
   "nbconvert_exporter": "python",
   "pygments_lexer": "ipython3",
   "version": "3.7.6"
  }
 },
 "nbformat": 4,
 "nbformat_minor": 4
}
